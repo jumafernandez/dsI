{
  "nbformat": 4,
  "nbformat_minor": 0,
  "metadata": {
    "colab": {
      "provenance": [],
      "authorship_tag": "ABX9TyMwQ85kM9Np27BgFdyMAwW3",
      "include_colab_link": true
    },
    "kernelspec": {
      "name": "python3",
      "display_name": "Python 3"
    },
    "language_info": {
      "name": "python"
    }
  },
  "cells": [
    {
      "cell_type": "markdown",
      "metadata": {
        "id": "view-in-github",
        "colab_type": "text"
      },
      "source": [
        "<a href=\"https://colab.research.google.com/github/jumafernandez/dsI/blob/main/notebook_11_12.ipynb\" target=\"_parent\"><img src=\"https://colab.research.google.com/assets/colab-badge.svg\" alt=\"Open In Colab\"/></a>"
      ]
    },
    {
      "cell_type": "markdown",
      "source": [
        "# Desafío de la clase del 11/12\n",
        "\n",
        "A continuación resolvemos el desafío:\n",
        "\n",
        "Consigna: Se tiene una lista con Valores= [200, 225, 232, 221, 243, 256, 255] que\n",
        "representan los precios de una acción de la compañía X la semana pasada\n",
        "(cada dato representa el promedio diario)\n",
        "Escribir el código para calcular los días de la semana donde hubo un retroceso\n",
        "respecto al día anterior en el valor de la acción de la compañía X."
      ],
      "metadata": {
        "id": "JTrPlwP0eKee"
      }
    },
    {
      "cell_type": "markdown",
      "source": [
        "**Solución 1:**"
      ],
      "metadata": {
        "id": "qSO27gqEebTS"
      }
    },
    {
      "cell_type": "code",
      "source": [
        "valores = [200, 225, 232, 221, 243, 256, 255]\n",
        "\n",
        "# Solución 1\n",
        "print('Solución 1:')\n",
        "for i in range(1, len(valores)):\n",
        "    if valores[i] < valores[i-1]:\n",
        "        print(f'El día {i} hubo un retroceso')"
      ],
      "metadata": {
        "colab": {
          "base_uri": "https://localhost:8080/"
        },
        "id": "AoYhddzRegpE",
        "outputId": "677c49f0-ad4d-481c-e35a-a445f44eba95"
      },
      "execution_count": 1,
      "outputs": [
        {
          "output_type": "stream",
          "name": "stdout",
          "text": [
            "Solución 1:\n",
            "El día 3 hubo un retroceso\n",
            "El día 6 hubo un retroceso\n"
          ]
        }
      ]
    },
    {
      "cell_type": "markdown",
      "source": [
        "**Solución 2:**"
      ],
      "metadata": {
        "id": "9-yAFuJiemRx"
      }
    },
    {
      "cell_type": "code",
      "source": [
        "# Solución 2:\n",
        "print('\\nSolución 2:')\n",
        "dias = ['Lunes','Martes','Miercoles','Jueves','Viernes','Sabado','Domingo']\n",
        "\n",
        "for i in range(1, len(valores)):\n",
        "    if valores[i] < valores[i-1]:\n",
        "        print(f'El día {dias[i]} hubo un retroceso')"
      ],
      "metadata": {
        "colab": {
          "base_uri": "https://localhost:8080/"
        },
        "id": "NnjAkj4seqCq",
        "outputId": "e2ad95f4-9d4f-4ecd-def3-d9eda3a18c6e"
      },
      "execution_count": 2,
      "outputs": [
        {
          "output_type": "stream",
          "name": "stdout",
          "text": [
            "\n",
            "Solución 2:\n",
            "El día Jueves hubo un retroceso\n",
            "El día Domingo hubo un retroceso\n"
          ]
        }
      ]
    },
    {
      "cell_type": "markdown",
      "source": [
        "**Solución 3:**"
      ],
      "metadata": {
        "id": "-6S4CL86eyQe"
      }
    },
    {
      "cell_type": "code",
      "source": [
        "# Solución 3:\n",
        "print('\\nSolución 3:')\n",
        "\n",
        "dias_retroceso = []\n",
        "\n",
        "for i in range(1, len(valores)):\n",
        "    if valores[i] < valores[i-1]:\n",
        "        dias_retroceso.append(dias[i])\n",
        "\n",
        "print(\"Los días de retroceso fueron:\", dias_retroceso)"
      ],
      "metadata": {
        "colab": {
          "base_uri": "https://localhost:8080/"
        },
        "id": "I_tU_HAaez5F",
        "outputId": "0b94d8ec-499c-4ba9-e214-2bb43c2fa453"
      },
      "execution_count": 3,
      "outputs": [
        {
          "output_type": "stream",
          "name": "stdout",
          "text": [
            "\n",
            "Solución 3:\n",
            "Los días de retroceso fueron: ['Jueves', 'Domingo']\n"
          ]
        }
      ]
    },
    {
      "cell_type": "markdown",
      "source": [
        "**Solución 4:**"
      ],
      "metadata": {
        "id": "lz-fWZKZe1_b"
      }
    },
    {
      "cell_type": "code",
      "source": [
        "# Solución 4:\n",
        "print('\\nSolución 4:')\n",
        "\n",
        "import numpy as np\n",
        "\n",
        "dias_retroceso = []\n",
        "\n",
        "diferencias = np.diff(valores)\n",
        "\n",
        "for dia, diferencia in zip(dias[1:], diferencias):\n",
        "    if diferencia < 0:\n",
        "        dias_retroceso.append(dia)\n",
        "\n",
        "print(\"Los días de retroceso fueron:\", dias_retroceso)"
      ],
      "metadata": {
        "colab": {
          "base_uri": "https://localhost:8080/"
        },
        "id": "cM_mmdYle4HJ",
        "outputId": "a862af90-0d91-4c51-f720-0481d5695b66"
      },
      "execution_count": 4,
      "outputs": [
        {
          "output_type": "stream",
          "name": "stdout",
          "text": [
            "\n",
            "Solución 4:\n",
            "Los días de retroceso fueron: ['Jueves', 'Domingo']\n"
          ]
        }
      ]
    }
  ]
}